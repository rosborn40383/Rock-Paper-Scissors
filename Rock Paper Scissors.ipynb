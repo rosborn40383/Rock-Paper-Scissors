{
 "cells": [
  {
   "cell_type": "code",
   "execution_count": 1,
   "id": "f371016b",
   "metadata": {},
   "outputs": [
    {
     "name": "stdout",
     "output_type": "stream",
     "text": [
      "Enter a choice (rock, paper, scissors): rock\n",
      "\n",
      "You chose rock, computer chose scissors.\n",
      "\n",
      "Rock smashes scissors! You win!\n",
      "Play again? (y/n): y\n",
      "Enter a choice (rock, paper, scissors): paper\n",
      "\n",
      "You chose paper, computer chose scissors.\n",
      "\n",
      "Scissors cuts paper! You lose!\n",
      "Play again? (y/n): n\n"
     ]
    }
   ],
   "source": [
    "import random\n",
    "\n",
    "while True: #Continuously take inputs\n",
    "    user_action = input(\"Enter a choice (rock, paper, scissors): \")\n",
    "    possible_actions = [\"rock\", \"paper\", \"scissors\"] #Three options for user and computer\n",
    "    computer_action = random.choice(possible_actions) #Computer chooses at random\n",
    "    print(f\"\\nYou chose {user_action}, computer chose {computer_action}.\\n\")\n",
    "#Use f string to change action inputs based on user and computer input\n",
    "    if user_action == computer_action: #If they choose the same input\n",
    "        #This is all in the same while loop\n",
    "        print(f\"Both players selected {user_action}. It's a tie!\")\n",
    "    elif user_action == \"rock\": #elif to check multiple conditions\n",
    "        if computer_action == \"scissors\":\n",
    "            print(\"Rock smashes scissors! You win!\")\n",
    "        else: #else for the other option, losing\n",
    "            print(\"Paper covers rock! You lose!\")\n",
    "    elif user_action == \"paper\":\n",
    "        if computer_action == \"rock\":\n",
    "            print(\"Paper covers rock! You win!\")\n",
    "        else:\n",
    "            print(\"Scissors cuts paper! You lose!\")\n",
    "    elif user_action == \"scissors\":\n",
    "        if computer_action == \"paper\":\n",
    "            print(\"Scissors cuts paper! You win!\")\n",
    "        else:\n",
    "            print(\"Rock smashes scissors! You lose!\")\n",
    "\n",
    "    play_again = input(\"Play again? (y/n): \") #user input y/n to continue the while loop or stop it\n",
    "    if play_again.lower() != \"y\": #determine wether they typed y or n \n",
    "        break #end the loop"
   ]
  },
  {
   "cell_type": "code",
   "execution_count": null,
   "id": "7c3c7cef",
   "metadata": {},
   "outputs": [],
   "source": []
  }
 ],
 "metadata": {
  "kernelspec": {
   "display_name": "Python 3",
   "language": "python",
   "name": "python3"
  },
  "language_info": {
   "codemirror_mode": {
    "name": "ipython",
    "version": 3
   },
   "file_extension": ".py",
   "mimetype": "text/x-python",
   "name": "python",
   "nbconvert_exporter": "python",
   "pygments_lexer": "ipython3",
   "version": "3.8.8"
  }
 },
 "nbformat": 4,
 "nbformat_minor": 5
}
